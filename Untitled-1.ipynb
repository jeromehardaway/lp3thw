{
    "cells": [
        {
            "cell_type": "code",
            "execution_count": 1,
            "source": [
                "print(\"hello\")"
            ],
            "outputs": [
                {
                    "output_type": "stream",
                    "name": "stdout",
                    "text": [
                        "hello\n"
                    ]
                }
            ],
            "metadata": {}
        }
    ],
    "metadata": {
        "orig_nbformat": 4,
        "language_info": {
            "name": "python",
            "version": "3.9.2",
            "mimetype": "text/x-python",
            "codemirror_mode": {
                "name": "ipython",
                "version": 3
            },
            "pygments_lexer": "ipython3",
            "nbconvert_exporter": "python",
            "file_extension": ".py"
        },
        "kernelspec": {
            "name": "python3",
            "display_name": "Python 3.9.2 64-bit ('3.9.2': pyenv)"
        },
        "interpreter": {
            "hash": "eac51ff5d1e812529d65e3ffe5f2d81a5afb762ed444a036bba26c6ac0e5ec5b"
        }
    },
    "nbformat": 4,
    "nbformat_minor": 2
}